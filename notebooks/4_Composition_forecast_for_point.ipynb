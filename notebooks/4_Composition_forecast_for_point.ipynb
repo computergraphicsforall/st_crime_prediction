{
 "cells": [
  {
   "cell_type": "code",
   "execution_count": 1,
   "metadata": {},
   "outputs": [
    {
     "name": "stderr",
     "output_type": "stream",
     "text": [
      "/home/mike/anaconda3/lib/python3.8/site-packages/statsmodels/tools/_testing.py:19: FutureWarning: pandas.util.testing is deprecated. Use the functions in the public API at pandas.testing instead.\n",
      "  import pandas.util.testing as tm\n"
     ]
    }
   ],
   "source": [
    "import pandas as pd\n",
    "import data_io\n",
    "from data_io import space_time_series as st\n",
    "import forecast_time_series\n",
    "from forecast_time_series import forecast as fc, forecast_statistics"
   ]
  },
  {
   "cell_type": "markdown",
   "metadata": {},
   "source": [
    "#### 1. Load, select, and filter data to forecast"
   ]
  },
  {
   "cell_type": "code",
   "execution_count": null,
   "metadata": {},
   "outputs": [],
   "source": [
    "# reading NUSE file\n",
    "nuse = pd.read_csv('../../d3idvc/dataNuse/nuse_110220.csv', sep=',', \n",
    "                    encoding='utf-8', error_bad_lines=False)"
   ]
  },
  {
   "cell_type": "code",
   "execution_count": null,
   "metadata": {},
   "outputs": [],
   "source": [
    "# data transform to new characteristics to forecast\n",
    "data_time_series = st.data_crime_transform(nuse)"
   ]
  },
  {
   "cell_type": "code",
   "execution_count": null,
   "metadata": {},
   "outputs": [],
   "source": [
    "# define bandidth to points\n",
    "bw = 4000"
   ]
  },
  {
   "cell_type": "code",
   "execution_count": null,
   "metadata": {},
   "outputs": [],
   "source": [
    "# filtering data by point\n",
    "df_filter_lon_lat = st.filtering_data_by_point(data=data_time_series, bandwidth=bw,\n",
    "                                               point_lon=-74.099, \n",
    "                                               point_lat=4.7358)"
   ]
  },
  {
   "cell_type": "markdown",
   "metadata": {},
   "source": [
    "#### 2. Weekday (daily) Forecast"
   ]
  },
  {
   "cell_type": "code",
   "execution_count": null,
   "metadata": {},
   "outputs": [],
   "source": [
    "# forecasting\n",
    "stats_wd, plot_wd = fc.weekday_daily_forecast_for_point(data=df_filter_lon_lat, \n",
    "                                                       start_training='2014-07-28', \n",
    "                                                       end_training='2019-08-28', \n",
    "                                                       bandwidth=bw, n_days=70, \n",
    "                                                       graphics=True)\n",
    "stats_wd"
   ]
  },
  {
   "cell_type": "markdown",
   "metadata": {},
   "source": [
    "#### 3. Weekday 1-Turny Forecast"
   ]
  },
  {
   "cell_type": "code",
   "execution_count": null,
   "metadata": {},
   "outputs": [],
   "source": [
    "# forecasting\n",
    "stats_1t, plot_1t = fc.weekday_one_turny_forecast_for_point(data=df_filter_lon_lat, \n",
    "                                                            start_training='2014-07-28', \n",
    "                                                            end_training='2019-07-21', \n",
    "                                                            bandwidth=bw, n_days=7, \n",
    "                                                            graphics=True) \n",
    "stats_1t"
   ]
  },
  {
   "cell_type": "markdown",
   "metadata": {},
   "source": [
    "#### 4. Weekday 4-Turny Forecast"
   ]
  },
  {
   "cell_type": "code",
   "execution_count": null,
   "metadata": {},
   "outputs": [],
   "source": [
    "# forecasting\n",
    "stats_4t, plot_4t = fc.weekday_four_turny_forecast_for_point(data=df_filter_lon_lat, \n",
    "                                                             start_training='2014-07-28', \n",
    "                                                             end_training='2019-07-21', \n",
    "                                                             bandwidth=bw, n_days=7, \n",
    "                                                             graphics=True)\n",
    "stats_4t"
   ]
  }
 ],
 "metadata": {
  "kernelspec": {
   "display_name": "Python 3",
   "language": "python",
   "name": "python3"
  },
  "language_info": {
   "codemirror_mode": {
    "name": "ipython",
    "version": 3
   },
   "file_extension": ".py",
   "mimetype": "text/x-python",
   "name": "python",
   "nbconvert_exporter": "python",
   "pygments_lexer": "ipython3",
   "version": "3.8.3"
  }
 },
 "nbformat": 4,
 "nbformat_minor": 4
}
