{
 "cells": [
  {
   "cell_type": "code",
   "execution_count": 26,
   "metadata": {},
   "outputs": [],
   "source": [
    "import pandas as pd\n",
    "import numpy as np\n",
    "import matplotlib.pyplot as plt\n",
    "import math\n",
    "import json\n",
    "\n",
    "# modules open cp forecasting\n",
    "import open_cp\n",
    "import open_cp.kde as kde\n",
    "import open_cp.data as ocp\n",
    "import open_cp.naive as naive\n",
    "import open_cp.predictors as fcast\n",
    "import open_cp.seppexp as sepp\n",
    "\n",
    "# modules time series forecasting\n",
    "import tools\n",
    "from tools import spatial_tools as tools"
   ]
  },
  {
   "cell_type": "markdown",
   "metadata": {},
   "source": [
    "#### 1. Open CP functions to predict"
   ]
  },
  {
   "cell_type": "code",
   "execution_count": 29,
   "metadata": {},
   "outputs": [],
   "source": [
    "# convert lon-lat array\n",
    "def convert_to_point(df):\n",
    "    df['POINT_LON_LAT'] = [[a, b] for a, b in zip (df['LONGITUD'], df['LATITUD'])]\n",
    "    df = df.sort_values(by='FECHA')\n",
    "    return df\n",
    "\n",
    "# get data points objects for open cp forecasting from NUSE data\n",
    "def get_data_predict(sdt, edt, data):\n",
    "    \n",
    "    fie = pd.to_datetime(sdt)\n",
    "    ffe = pd.to_datetime(edt)\n",
    "    \n",
    "    # lat - lon conversion to Point object open cp\n",
    "    df = convert_to_point(data)                                  \n",
    "    train = df[(df['FECHA'] >= str(sdt)) & (df['FECHA'] < str(edt))]\n",
    "    # points to prediction\n",
    "    points = np.array([x for x in train['POINT_LON_LAT']])     \n",
    "    points = points.T\n",
    "    # dates for forecasting\n",
    "    dates_forecasting = [np.datetime64(dt) for dt in train['FECHA']]      \n",
    "    points_lonlat = ocp.TimedPoints(dates_forecasting, points)\n",
    "    \n",
    "    return points_lonlat\n",
    "\n",
    "# get the region for forecasting open cp from NUSE data\n",
    "def get_region_forecasting_open_cp(data_incidents, bandwidth=500):\n",
    "    \n",
    "    # get additional meters to cover properly the region\n",
    "    add_mts = 2/111.32  \n",
    "    # get min of max values for the region\n",
    "    min_lat = 4.38981655133336\n",
    "    min_lon = data_incidents.xcoords.min()\n",
    "    max_lon = data_incidents.xcoords.max() + add_mts\n",
    "    max_lat = data_incidents.ycoords.max()\n",
    "    \n",
    "    # get cell width and height for region\n",
    "    rad = tools.get_degrees(bandwidth, min_lat, 'lon')\n",
    "    # get the region with open cp\n",
    "    region = ocp.RectangularRegion(min_lon, max_lon, min_lat, max_lat)\n",
    "    return region, rad\n",
    "\n",
    "def predict_export_STKDE (data_training, bandwidth):\n",
    "    \n",
    "    region_forecast, rad = get_region_forecasting_open_cp(data_open_cp, bandwidth)\n",
    "\n",
    "    # configuring open cp forecasting \n",
    "    ST_predictor = kde.KDE(region=region_forecast, grid_size=rad)\n",
    "    ST_predictor.time_kernel = kde.ExponentialTimeKernel(0.91)\n",
    "    ST_predictor.space_kernel = kde.GaussianBaseProvider()\n",
    "    ST_predictor.data = data_training\n",
    "\n",
    "    # execute forecasting\n",
    "    gridpred = ST_predictor.predict()\n",
    "    # get mesh over the region used for open cp\n",
    "    mesh_opencp = gridpred.mesh_data()\n",
    "    \n",
    "    predict_data = dict(lats=mesh_opencp[0].tolist(), \n",
    "                        lons=mesh_opencp[1].tolist(), \n",
    "                        matrix_intensity=gridpred.intensity_matrix.tolist()\n",
    "                       )\n",
    "    \n",
    "    \n",
    "    f = open('../data/predict_STKDE_' + str(bandwidth) +'.json', 'w')\n",
    "    f.write(json.dumps(predict_data))\n",
    "    f.close()\n",
    "    \n",
    "    return predict_data\n",
    "    "
   ]
  },
  {
   "cell_type": "markdown",
   "metadata": {},
   "source": [
    "#### 2. Read data NUSE"
   ]
  },
  {
   "cell_type": "code",
   "execution_count": 3,
   "metadata": {},
   "outputs": [
    {
     "name": "stderr",
     "output_type": "stream",
     "text": [
      "/home/mike/anaconda3/lib/python3.8/site-packages/IPython/core/interactiveshell.py:3071: DtypeWarning: Columns (9,11) have mixed types.Specify dtype option on import or set low_memory=False.\n",
      "  has_raised = await self.run_ast_nodes(code_ast.body, cell_name,\n"
     ]
    }
   ],
   "source": [
    "# use local path where you have the data\n",
    "local_path_data_nuse = '../../d3idvc/dataNuse/nuse_110220.csv'\n",
    "# reading the file\n",
    "nuse1 = pd.read_csv(local_path_data_nuse, sep=',', \n",
    "                    encoding='utf-8', error_bad_lines=False)"
   ]
  },
  {
   "cell_type": "markdown",
   "metadata": {},
   "source": [
    "#### 3. Generate the data to forecast with STKDE open cp"
   ]
  },
  {
   "cell_type": "code",
   "execution_count": 4,
   "metadata": {},
   "outputs": [],
   "source": [
    "# configure general parameters (training dates)\n",
    "start_date_training = '2014-07-28'\n",
    "end_date_training = '2019-07-22'"
   ]
  },
  {
   "cell_type": "code",
   "execution_count": 8,
   "metadata": {},
   "outputs": [],
   "source": [
    "# get data for trainning \n",
    "data_open_cp = get_data_predict(start_date_training, end_date_training, nuse1)"
   ]
  },
  {
   "cell_type": "code",
   "execution_count": 30,
   "metadata": {},
   "outputs": [],
   "source": [
    "# predict to 4000 mts\n",
    "results_4000 = predict_export_STKDE(data_training=data_open_cp, bandwidth=4000)"
   ]
  },
  {
   "cell_type": "code",
   "execution_count": 31,
   "metadata": {},
   "outputs": [],
   "source": [
    "# predict to 2000 mts\n",
    "results_2000 = predict_export_STKDE(data_training=data_open_cp, bandwidth=2000)"
   ]
  },
  {
   "cell_type": "code",
   "execution_count": 32,
   "metadata": {},
   "outputs": [],
   "source": [
    "# predict to 1000 mts\n",
    "results_1000 = predict_export_STKDE(data_training=data_open_cp, bandwidth=1000)"
   ]
  },
  {
   "cell_type": "code",
   "execution_count": null,
   "metadata": {},
   "outputs": [],
   "source": [
    "# predict to 500 mts\n",
    "results_500 = predict_export_STKDE(data_training=data_open_cp, bandwidth=500)"
   ]
  }
 ],
 "metadata": {
  "kernelspec": {
   "display_name": "Python 3",
   "language": "python",
   "name": "python3"
  },
  "language_info": {
   "codemirror_mode": {
    "name": "ipython",
    "version": 3
   },
   "file_extension": ".py",
   "mimetype": "text/x-python",
   "name": "python",
   "nbconvert_exporter": "python",
   "pygments_lexer": "ipython3",
   "version": "3.8.3"
  }
 },
 "nbformat": 4,
 "nbformat_minor": 4
}
