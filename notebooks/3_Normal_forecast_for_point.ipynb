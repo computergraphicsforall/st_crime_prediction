{
 "cells": [
  {
   "cell_type": "code",
   "execution_count": 1,
   "metadata": {},
   "outputs": [
    {
     "name": "stderr",
     "output_type": "stream",
     "text": [
      "/home/mike/anaconda3/lib/python3.8/site-packages/statsmodels/tools/_testing.py:19: FutureWarning: pandas.util.testing is deprecated. Use the functions in the public API at pandas.testing instead.\n",
      "  import pandas.util.testing as tm\n"
     ]
    }
   ],
   "source": [
    "import pandas as pd\n",
    "import data_io\n",
    "from data_io import space_time_series as st\n",
    "import forecast_time_series\n",
    "from forecast_time_series import forecast as fc, forecast_statistics"
   ]
  },
  {
   "cell_type": "markdown",
   "metadata": {},
   "source": [
    "#### 1. Load, select, and filter data to forecast"
   ]
  },
  {
   "cell_type": "code",
   "execution_count": null,
   "metadata": {},
   "outputs": [],
   "source": [
    "# reading NUSE file\n",
    "nuse = pd.read_csv('../../d3idvc/dataNuse/nuse_110220.csv', sep=',', \n",
    "                    encoding='utf-8', error_bad_lines=False)"
   ]
  },
  {
   "cell_type": "code",
   "execution_count": null,
   "metadata": {},
   "outputs": [],
   "source": [
    "# data transform to new characteristics to forecast\n",
    "data_time_series = st.data_crime_transform(nuse)"
   ]
  },
  {
   "cell_type": "code",
   "execution_count": null,
   "metadata": {},
   "outputs": [],
   "source": [
    "# define bandidth to points\n",
    "bw = 4000"
   ]
  },
  {
   "cell_type": "code",
   "execution_count": null,
   "metadata": {},
   "outputs": [],
   "source": [
    "# filtering data by point\n",
    "df_filter_lon_lat = st.filtering_data_by_point(data=data_time_series, bandwidth=bw,\n",
    "                                               point_lon=-74.185244, \n",
    "                                               point_lat=4.60905)"
   ]
  },
  {
   "cell_type": "markdown",
   "metadata": {},
   "source": [
    "#### 2. Montly Forecast"
   ]
  },
  {
   "cell_type": "code",
   "execution_count": null,
   "metadata": {},
   "outputs": [],
   "source": [
    "# get time series in monthly periods\n",
    "ts_montly = st.time_series_by_point(data=df_filter_lon_lat, t_serie='monthly', \n",
    "                                    start_data_date='2014-01-01', \n",
    "                                    end_data_date='2019-11-24')\n",
    "ts_montly"
   ]
  },
  {
   "cell_type": "code",
   "execution_count": null,
   "metadata": {},
   "outputs": [],
   "source": [
    "# forecasting\n",
    "stats_montly, plot_montly = fc.montly_forecast_for_point(data=ts_montly, \n",
    "                                                         start_training='2014-07-01', \n",
    "                                                         end_training='2018-07-01', \n",
    "                                                         bandwidth=bw, n_months=6, \n",
    "                                                         graphics=True, period=12)\n"
   ]
  },
  {
   "cell_type": "code",
   "execution_count": null,
   "metadata": {},
   "outputs": [],
   "source": [
    "# statistics and forecast results\n",
    "stats_montly"
   ]
  },
  {
   "cell_type": "markdown",
   "metadata": {},
   "source": [
    "#### 3. Weekly Forecast"
   ]
  },
  {
   "cell_type": "code",
   "execution_count": null,
   "metadata": {},
   "outputs": [],
   "source": [
    "# get time series in weekly periods\n",
    "ts_weekly = st.time_series_by_point(data=df_filter_lon_lat, t_serie='weekly', \n",
    "                                    start_data_date='2014-01-01', \n",
    "                                    end_data_date='2019-11-24')\n",
    "ts_weekly"
   ]
  },
  {
   "cell_type": "code",
   "execution_count": null,
   "metadata": {},
   "outputs": [],
   "source": [
    "# forecasting\n",
    "stats_weekly, plot_weekly = fc.weekly_forecast_for_point(data=ts_weekly, \n",
    "                                                         start_training='2014-07-01', \n",
    "                                                         end_training='2018-07-01', \n",
    "                                                         bandwidth=bw, n_weeks=10, \n",
    "                                                         graphics=True)"
   ]
  },
  {
   "cell_type": "code",
   "execution_count": null,
   "metadata": {},
   "outputs": [],
   "source": [
    "stats_weekly"
   ]
  },
  {
   "cell_type": "markdown",
   "metadata": {},
   "source": [
    "#### 4. Daily Forecast"
   ]
  },
  {
   "cell_type": "code",
   "execution_count": null,
   "metadata": {},
   "outputs": [],
   "source": [
    "# get time series in monthly periods\n",
    "ts_daily = st.time_series_by_point(data=df_filter_lon_lat, t_serie='daily', \n",
    "                                    start_data_date='2014-01-01', \n",
    "                                    end_data_date='2019-11-24')\n",
    "ts_daily"
   ]
  },
  {
   "cell_type": "code",
   "execution_count": null,
   "metadata": {},
   "outputs": [],
   "source": [
    "# forecasting\n",
    "stats_daily, plot_daily = fc.daily_forecast_for_point(data=ts_daily, \n",
    "                                                         start_training='2014-07-01', \n",
    "                                                         end_training='2018-07-01', \n",
    "                                                         bandwidth=bw, n_days=6, \n",
    "                                                         graphics=True)\n"
   ]
  },
  {
   "cell_type": "markdown",
   "metadata": {},
   "source": [
    "#### 5. Turny (daily) Forecast"
   ]
  },
  {
   "cell_type": "code",
   "execution_count": null,
   "metadata": {},
   "outputs": [],
   "source": [
    "# get time series in turny periods\n",
    "ts_turny = st.time_series_by_point(data=df_filter_lon_lat, t_serie='full-turny-day', \n",
    "                                   start_data_date='2014-01-01', \n",
    "                                   end_data_date='2019-11-24')\n",
    "ts_turny"
   ]
  },
  {
   "cell_type": "code",
   "execution_count": null,
   "metadata": {},
   "outputs": [],
   "source": [
    "# forecasting\n",
    "stats_turny, plot_turny = fc.daily_turny_forecast_for_point(data=ts_turny, \n",
    "                                                            start_training='2014-07-28', \n",
    "                                                            end_training='2019-07-21', \n",
    "                                                            bandwidth=bw, n_days=7, \n",
    "                                                            graphics=True)\n"
   ]
  },
  {
   "cell_type": "code",
   "execution_count": null,
   "metadata": {},
   "outputs": [],
   "source": [
    "stats_turny"
   ]
  }
 ],
 "metadata": {
  "kernelspec": {
   "display_name": "Python 3",
   "language": "python",
   "name": "python3"
  },
  "language_info": {
   "codemirror_mode": {
    "name": "ipython",
    "version": 3
   },
   "file_extension": ".py",
   "mimetype": "text/x-python",
   "name": "python",
   "nbconvert_exporter": "python",
   "pygments_lexer": "ipython3",
   "version": "3.8.3"
  }
 },
 "nbformat": 4,
 "nbformat_minor": 4
}
